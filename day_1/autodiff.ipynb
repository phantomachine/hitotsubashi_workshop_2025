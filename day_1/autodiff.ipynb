{
 "cells": [
  {
   "cell_type": "markdown",
   "id": "0141fdbf",
   "metadata": {},
   "source": [
    "# Adventures with Autodiff\n",
    "\n",
    "*Prepared for the Computational Economics Workshop at Hitotsubashi*\n",
    "\n",
    "Author: [John Stachurski](https://johnstachurski.net)"
   ]
  },
  {
   "cell_type": "markdown",
   "id": "8502f627",
   "metadata": {},
   "source": [
    "## Overview\n",
    "\n",
    "This lecture gives a brief introduction to automatic differentiation using\n",
    "Google JAX.\n",
    "\n",
    "Automatic differentiation is one of the key elements of modern machine learning\n",
    "and artificial intelligence.\n",
    "\n",
    "As such it has attracted a great deal of investment and there are several\n",
    "powerful implementations available.\n",
    "\n",
    "One of the best of these is the automatic differentiation routines contained\n",
    "in JAX.\n",
    "\n",
    "While other software packages also offer this feature, the JAX version is\n",
    "particularly powerful because it integrates so well with other core\n",
    "components of JAX (e.g., JIT compilation and parallelization).\n",
    "\n",
    "As we will see in later lectures, automatic differentiation can be used not only\n",
    "for AI but also for many problems faced in mathematical modeling, such as\n",
    "multi-dimensional nonlinear optimization and root-finding problems.\n",
    "\n",
    "We need the following imports"
   ]
  },
  {
   "cell_type": "code",
   "execution_count": 1,
   "id": "185457da",
   "metadata": {
    "hide-output": false
   },
   "outputs": [
    {
     "ename": "ModuleNotFoundError",
     "evalue": "No module named 'jax'",
     "output_type": "error",
     "traceback": [
      "\u001b[0;31m---------------------------------------------------------------------------\u001b[0m",
      "\u001b[0;31mModuleNotFoundError\u001b[0m                       Traceback (most recent call last)",
      "Cell \u001b[0;32mIn[1], line 1\u001b[0m\n\u001b[0;32m----> 1\u001b[0m \u001b[38;5;28;01mimport\u001b[39;00m \u001b[38;5;21;01mjax\u001b[39;00m\n\u001b[1;32m      2\u001b[0m \u001b[38;5;28;01mfrom\u001b[39;00m \u001b[38;5;21;01mjax\u001b[39;00m \u001b[38;5;28;01mimport\u001b[39;00m vmap, grad\n\u001b[1;32m      3\u001b[0m \u001b[38;5;28;01mimport\u001b[39;00m \u001b[38;5;21;01mjax\u001b[39;00m\u001b[38;5;21;01m.\u001b[39;00m\u001b[38;5;21;01mnumpy\u001b[39;00m \u001b[38;5;28;01mas\u001b[39;00m \u001b[38;5;21;01mjnp\u001b[39;00m\n",
      "\u001b[0;31mModuleNotFoundError\u001b[0m: No module named 'jax'"
     ]
    }
   ],
   "source": [
    "import jax\n",
    "from jax import vmap, grad\n",
    "import jax.numpy as jnp\n",
    "import matplotlib.pyplot as plt\n",
    "import numpy as np"
   ]
  },
  {
   "cell_type": "markdown",
   "id": "993abe87",
   "metadata": {},
   "source": [
    "## What is automatic differentiation?\n",
    "\n",
    "Autodiff is a technique for calculating derivatives on a computer."
   ]
  },
  {
   "cell_type": "markdown",
   "id": "30857c18",
   "metadata": {},
   "source": [
    "### Autodiff is not finite differences\n",
    "\n",
    "The derivative of $ f(x) = \\exp(2x) $ is\n",
    "\n",
    "$$\n",
    "f'(x) = 2 \\exp(2x)\n",
    "$$\n",
    "\n",
    "A computer that doesn’t know how to take derivatives might approximate this with the finite difference ratio\n",
    "\n",
    "$$\n",
    "(Df)(x) := \\frac{f(x+h) - f(x)}{h}\n",
    "$$\n",
    "\n",
    "where $ h $ is a small positive number."
   ]
  },
  {
   "cell_type": "code",
   "execution_count": null,
   "id": "8eccc86a",
   "metadata": {
    "hide-output": false
   },
   "outputs": [],
   "source": [
    "def f(x):\n",
    "    \"Original function.\"\n",
    "    return np.exp(2 * x)\n",
    "\n",
    "def f_prime(x):\n",
    "    \"True derivative.\"\n",
    "    return 2 * np.exp(2 * x)\n",
    "\n",
    "def Df(x, h=0.01):\n",
    "    \"Approximate derivative (finite difference).\"\n",
    "    return (f(x + h) - f(x))/h\n",
    "\n",
    "x_grid = np.linspace(-2, 1, 200)\n",
    "fig, ax = plt.subplots()\n",
    "ax.plot(x_grid, f_prime(x_grid), label=\"$f'$\")\n",
    "ax.plot(x_grid, Df(x_grid), label=\"$Df$\")\n",
    "ax.legend()\n",
    "plt.show()"
   ]
  },
  {
   "cell_type": "markdown",
   "id": "3e2e1d01",
   "metadata": {},
   "source": [
    "This kind of numerical derivative is often inaccurate and unstable.\n",
    "\n",
    "One reason is that\n",
    "\n",
    "$$\n",
    "\\frac{f(x+h) - f(x)}{h} \\approx \\frac{0}{0}\n",
    "$$\n",
    "\n",
    "Small numbers in the numerator and denominator causes rounding errors.\n",
    "\n",
    "The situation is exponentially worse in high dimensions / with higher order derivatives"
   ]
  },
  {
   "cell_type": "markdown",
   "id": "254085b1",
   "metadata": {},
   "source": [
    "### Autodiff is not symbolic calculus\n",
    "\n",
    "Symbolic calculus tries to use rules for differentiation to produce a single\n",
    "closed-form expression representing a derivative."
   ]
  },
  {
   "cell_type": "code",
   "execution_count": null,
   "id": "6b79faf3",
   "metadata": {
    "hide-output": false
   },
   "outputs": [],
   "source": [
    "from sympy import symbols, diff\n",
    "\n",
    "m, a, b, x = symbols('m a b x')\n",
    "f_x = (a*x + b)**m\n",
    "f_x.diff((x, 6))  # 6-th order derivative"
   ]
  },
  {
   "cell_type": "markdown",
   "id": "fd8b6e18",
   "metadata": {},
   "source": [
    "Symbolic calculus is not well suited to high performance\n",
    "computing.\n",
    "\n",
    "One disadvantage is that symbolic calculus cannot differentiate through control flow.\n",
    "\n",
    "Also, using symbolic calculus might involve redundant calculations.\n",
    "\n",
    "For example, consider\n",
    "\n",
    "$$\n",
    "(f g h)'\n",
    "    = (f' g + g' f) h + (f g) h'\n",
    "$$\n",
    "\n",
    "If we evaluate at $ x $, then we evalute $ f(x) $ and $ g(x) $ twice each.\n",
    "\n",
    "Also, computing $ f'(x) $ and $ f(x) $ might involve similar terms (e.g., $ (f(x) = \\exp(2x)' \\implies f'(x) = 2f(x) $) but this is not exploited in symbolic algebra."
   ]
  },
  {
   "cell_type": "markdown",
   "id": "fe17a8ac",
   "metadata": {},
   "source": [
    "### Autodiff\n",
    "\n",
    "Autodiff produces functions that evaluates derivatives at numerical values\n",
    "passed in by the calling code, rather than producing a single symbolic\n",
    "expression representing the entire derivative.\n",
    "\n",
    "Derivatives are constructed by breaking calculations into component parts via the chain rule.\n",
    "\n",
    "The chain rule is applied until the point where the terms reduce to primitive functions that the program knows how to differentiate exactly (addition, subtraction, exponentiation, sine and cosine, etc.)"
   ]
  },
  {
   "cell_type": "markdown",
   "id": "15689846",
   "metadata": {},
   "source": [
    "## Some experiments\n",
    "\n",
    "Let’s start with some real-valued functions on $ \\mathbb R $."
   ]
  },
  {
   "cell_type": "markdown",
   "id": "127b4fcb",
   "metadata": {},
   "source": [
    "### A differentiable function\n",
    "\n",
    "Let’s test JAX’s auto diff with a relatively simple function."
   ]
  },
  {
   "cell_type": "code",
   "execution_count": null,
   "id": "b571f609",
   "metadata": {
    "hide-output": false
   },
   "outputs": [],
   "source": [
    "def f(x):\n",
    "    return jnp.sin(x) - 2 * jnp.cos(3 * x) * jnp.exp(- x**2)"
   ]
  },
  {
   "cell_type": "markdown",
   "id": "efd30556",
   "metadata": {},
   "source": [
    "We use `grad` to compute the gradient of a real-valued function:"
   ]
  },
  {
   "cell_type": "code",
   "execution_count": null,
   "id": "93988b62",
   "metadata": {
    "hide-output": false
   },
   "outputs": [],
   "source": [
    "f_prime = grad(f)"
   ]
  },
  {
   "cell_type": "markdown",
   "id": "f39fb1da",
   "metadata": {},
   "source": [
    "Let’s plot the result:"
   ]
  },
  {
   "cell_type": "code",
   "execution_count": null,
   "id": "2d702ecb",
   "metadata": {
    "hide-output": false
   },
   "outputs": [],
   "source": [
    "x_grid = jnp.linspace(-5, 5, 100)"
   ]
  },
  {
   "cell_type": "code",
   "execution_count": null,
   "id": "5130689e",
   "metadata": {
    "hide-output": false
   },
   "outputs": [],
   "source": [
    "fig, ax = plt.subplots()\n",
    "ax.plot(x_grid, [f(x) for x in x_grid], label=\"$f$\")\n",
    "ax.plot(x_grid, vmap(f_prime)(x_grid), label=\"$f'$\")\n",
    "ax.legend()\n",
    "plt.show()"
   ]
  },
  {
   "cell_type": "markdown",
   "id": "291a71ed",
   "metadata": {},
   "source": [
    "### Absolute value function\n",
    "\n",
    "What happens if the function is not differentiable?"
   ]
  },
  {
   "cell_type": "code",
   "execution_count": null,
   "id": "0e7b5b71",
   "metadata": {
    "hide-output": false
   },
   "outputs": [],
   "source": [
    "def f(x):\n",
    "    return jnp.abs(x)"
   ]
  },
  {
   "cell_type": "code",
   "execution_count": null,
   "id": "03477874",
   "metadata": {
    "hide-output": false
   },
   "outputs": [],
   "source": [
    "f_prime = jax.grad(f)"
   ]
  },
  {
   "cell_type": "code",
   "execution_count": null,
   "id": "e8a6be94",
   "metadata": {
    "hide-output": false
   },
   "outputs": [],
   "source": [
    "fig, ax = plt.subplots()\n",
    "ax.plot(x_grid, [f(x) for x in x_grid], label=\"$f$\")\n",
    "ax.plot(x_grid, vmap(f_prime)(x_grid), label=\"$f'$\")\n",
    "ax.legend()\n",
    "plt.show()"
   ]
  },
  {
   "cell_type": "markdown",
   "id": "01e614f9",
   "metadata": {},
   "source": [
    "At the nondifferentiable point $ 0 $, `jax.grad` returns the right derivative:"
   ]
  },
  {
   "cell_type": "code",
   "execution_count": null,
   "id": "1ebd4746",
   "metadata": {
    "hide-output": false
   },
   "outputs": [],
   "source": [
    "f_prime(0.0)"
   ]
  },
  {
   "cell_type": "markdown",
   "id": "87314113",
   "metadata": {},
   "source": [
    "### Differentiating through control flow\n",
    "\n",
    "Let’s try differentiating through some loops and conditions."
   ]
  },
  {
   "cell_type": "code",
   "execution_count": null,
   "id": "3977d8e9",
   "metadata": {
    "hide-output": false
   },
   "outputs": [],
   "source": [
    "def f(x):\n",
    "    def f1(x):\n",
    "        for i in range(2):\n",
    "            x *= 0.2 * x\n",
    "        return x\n",
    "    def f2(x):\n",
    "        x = sum((x**i + i) for i in range(3))\n",
    "        return x\n",
    "    y = jnp.where(x < 0, f1(x), f2(x))\n",
    "    return y"
   ]
  },
  {
   "cell_type": "code",
   "execution_count": null,
   "id": "39e6d603",
   "metadata": {
    "hide-output": false
   },
   "outputs": [],
   "source": [
    "f_prime = grad(f)"
   ]
  },
  {
   "cell_type": "code",
   "execution_count": null,
   "id": "2300032c",
   "metadata": {
    "hide-output": false
   },
   "outputs": [],
   "source": [
    "x_grid = jnp.linspace(-5, 5, 1000)"
   ]
  },
  {
   "cell_type": "code",
   "execution_count": null,
   "id": "48de9453",
   "metadata": {
    "hide-output": false
   },
   "outputs": [],
   "source": [
    "fig, ax = plt.subplots()\n",
    "ax.plot(x_grid, [f(x) for x in x_grid], label=\"$f$\")\n",
    "ax.plot(x_grid, vmap(f_prime)(x_grid), label=\"$f'$\")\n",
    "ax.legend()\n",
    "plt.show()"
   ]
  },
  {
   "cell_type": "markdown",
   "id": "5f0e78eb",
   "metadata": {},
   "source": [
    "### Differentiating through a linear interpolation\n",
    "\n",
    "We can differentiate through linear interpolation, even though the function is not smooth:"
   ]
  },
  {
   "cell_type": "code",
   "execution_count": null,
   "id": "15be34e7",
   "metadata": {
    "hide-output": false
   },
   "outputs": [],
   "source": [
    "n = 20\n",
    "xp = jnp.linspace(-5, 5, n)\n",
    "yp = jnp.cos(2 * xp)\n",
    "\n",
    "fig, ax = plt.subplots()\n",
    "ax.plot(x_grid, jnp.interp(x_grid, xp, yp))\n",
    "plt.show()"
   ]
  },
  {
   "cell_type": "code",
   "execution_count": null,
   "id": "1ee92100",
   "metadata": {
    "hide-output": false
   },
   "outputs": [],
   "source": [
    "f_prime = jax.grad(jnp.interp)"
   ]
  },
  {
   "cell_type": "code",
   "execution_count": null,
   "id": "6b19db08",
   "metadata": {
    "hide-output": false
   },
   "outputs": [],
   "source": [
    "f_prime_vec = jax.vmap(f_prime, in_axes=(0, None, None))"
   ]
  },
  {
   "cell_type": "code",
   "execution_count": null,
   "id": "1a89fd5c",
   "metadata": {
    "hide-output": false
   },
   "outputs": [],
   "source": [
    "fig, ax = plt.subplots()\n",
    "ax.plot(x_grid, f_prime_vec(x_grid, xp, yp))\n",
    "plt.show()"
   ]
  },
  {
   "cell_type": "markdown",
   "id": "e0bcfc49",
   "metadata": {},
   "source": [
    "## Gradient Descent\n",
    "\n",
    "Let’s try implementing gradient descent.\n",
    "\n",
    "As a simple application, we’ll use gradient descent to solve for the OLS parameter estimates in simple linear regression."
   ]
  },
  {
   "cell_type": "markdown",
   "id": "f43ffd40",
   "metadata": {},
   "source": [
    "### A function for gradient descent\n",
    "\n",
    "Here’s an implementation of gradient descent."
   ]
  },
  {
   "cell_type": "code",
   "execution_count": null,
   "id": "e31ea3d1",
   "metadata": {
    "hide-output": false
   },
   "outputs": [],
   "source": [
    "def grad_descent(f,       # Function to be minimized\n",
    "                 args,    # Extra arguments to the function\n",
    "                 x0,      # Initial condition\n",
    "                 λ=0.1,   # Initial learning rate\n",
    "                 tol=1e-5, \n",
    "                 max_iter=1_000):\n",
    "    \"\"\"\n",
    "    Minimize the function f via gradient descent, starting from guess x0.\n",
    "\n",
    "    The learning rate is computed according to the Barzilai-Borwein method.\n",
    "    \n",
    "    \"\"\"\n",
    "    \n",
    "    f_grad = grad(f)\n",
    "    x = jnp.array(x0)\n",
    "    df = f_grad(x, args)\n",
    "    ϵ = tol + 1\n",
    "    i = 0\n",
    "    while ϵ > tol and i < max_iter:\n",
    "        new_x = x - λ * df\n",
    "        new_df = f_grad(new_x, args)\n",
    "        Δx = new_x - x\n",
    "        Δdf = new_df - df\n",
    "        λ = jnp.abs(Δx @ Δdf) / (Δdf @ Δdf)\n",
    "        ϵ = jnp.max(jnp.abs(Δx))\n",
    "        x, df = new_x, new_df\n",
    "        i += 1\n",
    "        \n",
    "    return x"
   ]
  },
  {
   "cell_type": "markdown",
   "id": "6accd29c",
   "metadata": {},
   "source": [
    "### Simulated data\n",
    "\n",
    "We’re going to test our gradient descent function my minimizing a sum of least squares in a regression problem.\n",
    "\n",
    "Let’s generate some simulated data:"
   ]
  },
  {
   "cell_type": "code",
   "execution_count": null,
   "id": "9bb2cb30",
   "metadata": {
    "hide-output": false
   },
   "outputs": [],
   "source": [
    "n = 100\n",
    "key = jax.random.PRNGKey(1234)\n",
    "x = jax.random.uniform(key, (n,))\n",
    "\n",
    "α, β, σ = 0.5, 1.0, 0.1  # Set the true intercept and slope.\n",
    "key, subkey = jax.random.split(key)\n",
    "ϵ = jax.random.normal(subkey, (n,))\n",
    "\n",
    "y = α * x + β + σ * ϵ"
   ]
  },
  {
   "cell_type": "code",
   "execution_count": null,
   "id": "e8de2491",
   "metadata": {
    "hide-output": false
   },
   "outputs": [],
   "source": [
    "fig, ax = plt.subplots()\n",
    "ax.scatter(x, y)\n",
    "plt.show()"
   ]
  },
  {
   "cell_type": "markdown",
   "id": "a257c363",
   "metadata": {},
   "source": [
    "Let’s start by calculating the estimated slope and intercept using closed form solutions."
   ]
  },
  {
   "cell_type": "code",
   "execution_count": null,
   "id": "d63fdb4f",
   "metadata": {
    "hide-output": false
   },
   "outputs": [],
   "source": [
    "mx = x.mean()\n",
    "my = y.mean()\n",
    "α_hat = jnp.sum((x - mx) * (y - my)) / jnp.sum((x - mx)**2)\n",
    "β_hat = my - α_hat * mx"
   ]
  },
  {
   "cell_type": "code",
   "execution_count": null,
   "id": "81acf23c",
   "metadata": {
    "hide-output": false
   },
   "outputs": [],
   "source": [
    "α_hat, β_hat"
   ]
  },
  {
   "cell_type": "code",
   "execution_count": null,
   "id": "fe811441",
   "metadata": {
    "hide-output": false
   },
   "outputs": [],
   "source": [
    "fig, ax = plt.subplots()\n",
    "ax.scatter(x, y)\n",
    "ax.plot(x, α_hat * x + β_hat, 'k-')\n",
    "ax.text(0.1, 1.55, rf'$\\hat \\alpha = {α_hat:.3}$')\n",
    "ax.text(0.1, 1.50, rf'$\\hat \\beta = {β_hat:.3}$')\n",
    "plt.show()"
   ]
  },
  {
   "cell_type": "markdown",
   "id": "cd986f49",
   "metadata": {},
   "source": [
    "### Minimizing squared loss by gradient descent\n",
    "\n",
    "Let’s see if we can get the same values with our gradient descent function.\n",
    "\n",
    "First we set up the least squares loss function."
   ]
  },
  {
   "cell_type": "code",
   "execution_count": null,
   "id": "c8d5f220",
   "metadata": {
    "hide-output": false
   },
   "outputs": [],
   "source": [
    "@jax.jit\n",
    "def loss(params, data):\n",
    "    a, b = params\n",
    "    x, y = data\n",
    "    return jnp.sum((y - a * x - b)**2)"
   ]
  },
  {
   "cell_type": "markdown",
   "id": "0817227c",
   "metadata": {},
   "source": [
    "Now we minimize it:"
   ]
  },
  {
   "cell_type": "code",
   "execution_count": null,
   "id": "109c2865",
   "metadata": {
    "hide-output": false
   },
   "outputs": [],
   "source": [
    "p0 = jnp.zeros(2)  # Initial guess for α, β\n",
    "data = x, y\n",
    "α_hat, β_hat = grad_descent(loss, data, p0)"
   ]
  },
  {
   "cell_type": "markdown",
   "id": "a23d27ee",
   "metadata": {},
   "source": [
    "Let’s plot the results."
   ]
  },
  {
   "cell_type": "code",
   "execution_count": null,
   "id": "f5515562",
   "metadata": {
    "hide-output": false
   },
   "outputs": [],
   "source": [
    "fig, ax = plt.subplots()\n",
    "x_grid = jnp.linspace(0, 1, 100)\n",
    "ax.scatter(x, y)\n",
    "ax.plot(x_grid, α_hat * x_grid + β_hat, 'k-', alpha=0.6)\n",
    "ax.text(0.1, 1.55, rf'$\\hat \\alpha = {α_hat:.3}$')\n",
    "ax.text(0.1, 1.50, rf'$\\hat \\beta = {β_hat:.3}$')\n",
    "plt.show()"
   ]
  },
  {
   "cell_type": "markdown",
   "id": "a2200b9b",
   "metadata": {},
   "source": [
    "Notice that we get the same estimates as we did from the closed form solutions."
   ]
  },
  {
   "cell_type": "markdown",
   "id": "4d1e2eb3",
   "metadata": {},
   "source": [
    "### Adding a squared term\n",
    "\n",
    "Now let’s try fitting a second order polynomial.\n",
    "\n",
    "Here’s our new loss function."
   ]
  },
  {
   "cell_type": "code",
   "execution_count": null,
   "id": "43fa9d8f",
   "metadata": {
    "hide-output": false
   },
   "outputs": [],
   "source": [
    "@jax.jit\n",
    "def loss(params, data):\n",
    "    a, b, c = params\n",
    "    x, y = data\n",
    "    return jnp.sum((y - a * x**2 - b * x - c)**2)"
   ]
  },
  {
   "cell_type": "markdown",
   "id": "adbbd4df",
   "metadata": {},
   "source": [
    "Now we’re minimizing in three dimensions.\n",
    "\n",
    "Let’s try it."
   ]
  },
  {
   "cell_type": "code",
   "execution_count": null,
   "id": "08a7ecde",
   "metadata": {
    "hide-output": false
   },
   "outputs": [],
   "source": [
    "p0 = jnp.zeros(3)\n",
    "α_hat, β_hat, γ_hat = grad_descent(loss, data, p0)\n",
    "\n",
    "fig, ax = plt.subplots()\n",
    "ax.scatter(x, y)\n",
    "ax.plot(x_grid, α_hat * x_grid**2 + β_hat * x_grid + γ_hat, 'k-', alpha=0.6)\n",
    "ax.text(0.1, 1.58, rf'$\\hat \\alpha = {α_hat:.3}$')\n",
    "ax.text(0.1, 1.50, rf'$\\hat \\beta = {β_hat:.3}$')\n",
    "ax.text(0.1, 1.42, rf'$\\hat \\gamma = {γ_hat:.3}$')\n",
    "\n",
    "plt.show()"
   ]
  },
  {
   "cell_type": "markdown",
   "id": "b81f9d07",
   "metadata": {},
   "source": [
    "## Exercises"
   ]
  },
  {
   "cell_type": "markdown",
   "id": "2b8747dd",
   "metadata": {},
   "source": [
    "## Exercise 3.1\n",
    "\n",
    "The function `jnp.polyval` evaluates polynomials.\n",
    "\n",
    "For example, if `len(p)` is 3, then `jnp.polyval(p, x)`  returns\n",
    "\n",
    "$$\n",
    "f(p, x) := p_0 x^2 + p_1 x + p_2\n",
    "$$\n",
    "\n",
    "Use this function for polynomial regression.\n",
    "\n",
    "The (empirical) loss becomes\n",
    "\n",
    "$$\n",
    "\\ell(p, x, y) \n",
    "    = \\sum_{i=1}^n (y_i - f(p, x_i))^2\n",
    "$$\n",
    "\n",
    "Set $ k=4 $ and set the initial guess of `params` to `jnp.zeros(k)`.\n",
    "\n",
    "Use gradient descent to find the array `params` that minimizes the loss\n",
    "function and plot the result (following the examples above)."
   ]
  },
  {
   "cell_type": "markdown",
   "id": "974f1d8c",
   "metadata": {},
   "source": [
    "## Solution to[ Exercise 3.1](https://jax.quantecon.org/#auto_ex1)\n",
    "\n",
    "Here’s one solution."
   ]
  },
  {
   "cell_type": "code",
   "execution_count": null,
   "id": "2289d07c",
   "metadata": {
    "hide-output": false
   },
   "outputs": [],
   "source": [
    "def loss(params, data):\n",
    "    x, y = data\n",
    "    return jnp.sum((y - jnp.polyval(params, x))**2)"
   ]
  },
  {
   "cell_type": "code",
   "execution_count": null,
   "id": "06cc3205",
   "metadata": {
    "hide-output": false
   },
   "outputs": [],
   "source": [
    "k = 4\n",
    "p0 = jnp.zeros(k)\n",
    "p_hat = grad_descent(loss, data, p0)\n",
    "print('Estimated parameter vector:')\n",
    "print(p_hat)\n",
    "print('\\n\\n')\n",
    "\n",
    "fig, ax = plt.subplots()\n",
    "ax.scatter(x, y)\n",
    "ax.plot(x_grid, jnp.polyval(p_hat, x_grid), 'k-', alpha=0.6)\n",
    "plt.show()"
   ]
  },
  {
   "cell_type": "code",
   "execution_count": null,
   "id": "dd52dcc9",
   "metadata": {},
   "outputs": [],
   "source": []
  },
  {
   "cell_type": "code",
   "execution_count": null,
   "id": "37f09783",
   "metadata": {},
   "outputs": [],
   "source": []
  }
 ],
 "metadata": {
  "jupytext": {
   "default_lexer": "ipython3"
  },
  "kernelspec": {
   "display_name": "base",
   "language": "python",
   "name": "python3"
  },
  "language_info": {
   "codemirror_mode": {
    "name": "ipython",
    "version": 3
   },
   "file_extension": ".py",
   "mimetype": "text/x-python",
   "name": "python",
   "nbconvert_exporter": "python",
   "pygments_lexer": "ipython3",
   "version": "3.11.4"
  }
 },
 "nbformat": 4,
 "nbformat_minor": 5
}
